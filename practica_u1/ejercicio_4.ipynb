{
 "cells": [
  {
   "metadata": {},
   "cell_type": "markdown",
   "source": [
    "# Ejercicio 4\n",
    "\n",
    "Con los videos de youtube.com de cámara fija pedidos para esta clase, aplicar los algoritmos de detección de movimiento vistos en la teoría."
   ],
   "id": "2281a27b668b6d5"
  },
  {
   "cell_type": "code",
   "id": "initial_id",
   "metadata": {
    "collapsed": true,
    "ExecuteTime": {
     "end_time": "2024-04-25T03:08:14.359740Z",
     "start_time": "2024-04-25T03:08:08.625274Z"
    }
   },
   "source": [
    "import cv2\n",
    "cap = cv2.VideoCapture('../fotos/video.mp4')\n",
    "backSub = cv2.createBackgroundSubtractorMOG2(detectShadows=False)\n",
    "\n",
    "max_height = 480\n",
    "\n",
    "while True:\n",
    "    ret, frame = cap.read()\n",
    "\n",
    "    # Verifica si se ha leído correctamente un fotograma\n",
    "    if not ret:\n",
    "        break\n",
    "\n",
    "    height, width = frame.shape[:2]\n",
    "    ratio = max_height / height\n",
    "    new_width = int(width * ratio)\n",
    "    new_height = int(height * ratio)\n",
    "\n",
    "    # Redimensiona el fotograma manteniendo la relación de aspecto\n",
    "    frame_resized = cv2.resize(frame, (new_width, new_height))\n",
    "\n",
    "    fgMask = backSub.apply(frame_resized)\n",
    "\n",
    "    cv2.imshow('original', frame_resized)\n",
    "    cv2.imshow('foregroundMask', fgMask)\n",
    "\n",
    "    if cv2.waitKey(1) & 0xFF == ord('q'):\n",
    "        break\n",
    "\n",
    "cap.release()\n",
    "cv2.destroyAllWindows()"
   ],
   "outputs": [],
   "execution_count": 1
  },
  {
   "metadata": {
    "ExecuteTime": {
     "end_time": "2024-04-25T03:08:20.285144Z",
     "start_time": "2024-04-25T03:08:14.361867Z"
    }
   },
   "cell_type": "code",
   "source": [
    "# Función actualizada para realizar diferencia de fotogramas con normalización:\n",
    "def process_frame_difference(new_image, prev_image, **kwargs):\n",
    "    # Convertir las imágenes a escala de grises\n",
    "    new_gray = cv2.cvtColor(new_image, cv2.COLOR_RGB2GRAY)\n",
    "    prev_gray = cv2.cvtColor(prev_image, cv2.COLOR_RGB2GRAY)\n",
    "\n",
    "    # Calcular la diferencia absoluta entre los fotogramas actual y anterior\n",
    "    frame_diff = cv2.absdiff(new_gray, prev_gray)\n",
    "\n",
    "    # Normalizar la imagen de diferencia\n",
    "    norm_diff = cv2.normalize(frame_diff, None, 0, 255, cv2.NORM_MINMAX)\n",
    "\n",
    "    # Umbralizar la imagen para resaltar las diferencias\n",
    "    _, thresh = cv2.threshold(norm_diff, 30, 255, cv2.THRESH_BINARY)\n",
    "\n",
    "    # Convertir la imagen umbralizada a color para mantener la consistencia con el video original\n",
    "    thresh_color = cv2.cvtColor(thresh, cv2.COLOR_GRAY2RGB)\n",
    "\n",
    "    return thresh_color\n",
    "\n",
    "video_capture = cv2.VideoCapture('../fotos/video.mp4')\n",
    "\n",
    "# Lee el primer fotograma\n",
    "prev_frame = None\n",
    "ret, prev_frame = video_capture.read()\n",
    "\n",
    "# Itera sobre los fotogramas restantes\n",
    "while True:\n",
    "    ret, frame = video_capture.read()\n",
    "    \n",
    "    if not ret:\n",
    "        break\n",
    "\n",
    "    # Procesa la diferencia entre fotogramas\n",
    "    processed_frame = process_frame_difference(frame, prev_frame)\n",
    "\n",
    "    # Muestra el fotograma procesado\n",
    "    cv2.imshow('Processed Frame', processed_frame)\n",
    "\n",
    "    # Sale del bucle si se presiona la tecla 'q'\n",
    "    if cv2.waitKey(25) & 0xFF == ord('q'):\n",
    "        break\n",
    "\n",
    "    # Actualiza el fotograma anterior\n",
    "    prev_frame = frame.copy()\n",
    "\n",
    "# Libera los recursos y cierra las ventanas\n",
    "video_capture.release()\n",
    "cv2.destroyAllWindows()"
   ],
   "id": "d2ed7a697d51f17",
   "outputs": [],
   "execution_count": 2
  }
 ],
 "metadata": {
  "kernelspec": {
   "display_name": "Python 3",
   "language": "python",
   "name": "python3"
  },
  "language_info": {
   "codemirror_mode": {
    "name": "ipython",
    "version": 2
   },
   "file_extension": ".py",
   "mimetype": "text/x-python",
   "name": "python",
   "nbconvert_exporter": "python",
   "pygments_lexer": "ipython2",
   "version": "2.7.6"
  }
 },
 "nbformat": 4,
 "nbformat_minor": 5
}
